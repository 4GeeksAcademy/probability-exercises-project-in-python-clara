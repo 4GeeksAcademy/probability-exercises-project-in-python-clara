{
 "cells": [
  {
   "cell_type": "markdown",
   "id": "a41f3622",
   "metadata": {},
   "source": [
    "# Ejercicios de probabilidad"
   ]
  },
  {
   "cell_type": "code",
   "execution_count": 23,
   "id": "eed300b8",
   "metadata": {},
   "outputs": [],
   "source": [
    "# Se importan las librerías:\n",
    "import numpy as np"
   ]
  },
  {
   "cell_type": "markdown",
   "id": "a6bdbd89",
   "metadata": {},
   "source": [
    "## Ejercicio 1 \n",
    "\n",
    "Dos dados se lanzan una vez y se observa el total obtenido. Usa una simulación para encontrar la probabilidad estimada de que la puntuación sea mayor a 7 o un número par. Una simulación es una repetición del mismo experimento multiples veces para observar su comportamiento:\n",
    "\n",
    "- Ejecuta el experimento 1000 veces (lanza 2 dados 1000 veces, y suma el número de ambos dados).\n",
    "- Lleva la cuenta de los números y las veces que la suma fue mayor a 7 o un número par.\n",
    "- Divide el número del paso 2 entre el número de iteraciones(1000)."
   ]
  },
  {
   "cell_type": "code",
   "execution_count": 24,
   "id": "8939d892",
   "metadata": {},
   "outputs": [
    {
     "name": "stdout",
     "output_type": "stream",
     "text": [
      " El número total de veces que, de la suma de los dados, salió un número mayor a 7 o un número par es: 679\n",
      " La probabilidad de que la suma de los dos números sea mayor de 7 ó un número par: 67.9%\n"
     ]
    }
   ],
   "source": [
    "# Se define el número de tiradas a realizar:\n",
    "n_rolls = 1000;\n",
    "\n",
    "# Se definen dos arrays de números aleatorios del 1 al 6 (random.randint es excluyente del último número) con tantas posiciones como número de tiradas se haya definido:\n",
    "results_dice_1 = np.random.randint(1, 7, size = n_rolls);\n",
    "results_dice_2 = np.random.randint(1, 7, size = n_rolls);\n",
    "\n",
    "# Se genera un array de la suma de ambos dados para cada tirada de forma que se pueda evaluar el resultado:\n",
    "sum_results = results_dice_1 + results_dice_2;\n",
    "\n",
    "# Se genera un array de True y False según se cumpla una de las dos condiciones establecidas (Suma de ambos dados par OR Suma de ambos dados mayor que 7)\n",
    "conditions = np.logical_or(sum_results%2 == 0, sum_results>7);\n",
    "\n",
    "# Se suma la cantidad de veces que se ha cumplido una de las dos condiciones (donde haya True en el array de 'conditions')\n",
    "total_conditions = np.sum(conditions == True);\n",
    "\n",
    "# Se imprime el número de veces que se ha cumplido una de las dos condiciones en el total de tiradas:\n",
    "print(f\" El número total de veces que, de la suma de los dados, salió un número mayor a 7 o un número par es: {total_conditions}\");\n",
    "\n",
    "# Se imprime la probabilidad existente de que se cumpla una de las dos condiciones:\n",
    "print(f\" La probabilidad de que la suma de los dos números sea mayor de 7 ó un número par: {100*(total_conditions/n_rolls)}%\");"
   ]
  },
  {
   "cell_type": "markdown",
   "id": "55732bca",
   "metadata": {},
   "source": [
    "## Ejercicio 2\n",
    "\n",
    "Una caja contiene 10 bolas blancas, 20 bolas rojas y 30 bolas verdes. Si tomamos 5 bolas de la caja reemplazándolas (tomando una bola, anotando el color y luego regresandola a la caja). Queremos saber la probabilidad de:\n",
    "\n",
    "1. Tomar 3 blancas y 2 rojas.\n",
    "2. Todas del mismo color.\n",
    "\n",
    "Ejecuta el experimento 1000 veces y calcula las probabilidades que mencionadas."
   ]
  },
  {
   "cell_type": "code",
   "execution_count": 25,
   "id": "23244d20",
   "metadata": {},
   "outputs": [
    {
     "name": "stdout",
     "output_type": "stream",
     "text": [
      " La probabilidad de que salgan 3 bolas Blancas Y 2 bolas Rojas es de: 0.5%\n",
      " La probabilidad de que salgan todas las bolas del mismo color es: 3.4%\n"
     ]
    }
   ],
   "source": [
    "# Se crea una lista vacía para guardar el color de las bolas:\n",
    "ball_box = {}\n",
    "\n",
    "# Se guardan tantas bolas Blancas, Rojas o Verdes según se ha especicificado en el enunciado:\n",
    "for i in range(60):\n",
    "\n",
    "    # Se guardan 10 bolas Blancas:\n",
    "    if i < 10:\n",
    "        ball_box[i] = \"White\";\n",
    "    \n",
    "    # Se guardan 20 bolas Rojas:\n",
    "    elif (i > 9) and (i < 30):\n",
    "        ball_box[i] = \"Red\";\n",
    "    \n",
    "    # Se guardan 30 bolas Verdes:\n",
    "    else:\n",
    "        ball_box[i] = \"Green\";\n",
    "\n",
    "# Se imprime la lista para comprobar cuántas bolas hay de cada tipo:\n",
    "# print(ball_box);\n",
    "            \n",
    "\n",
    "# Se define el número de extracciones a realizar en total:\n",
    "n_extractions = 1000;\n",
    "\n",
    "# Se inicializa la variable que ayudará a contar las veces que ocurre el suceso: Tres blancas Y dos rojas\n",
    "white_And_Red = 0;\n",
    "\n",
    "# Se inicializa la variable que ayudará a contar las veces que ocurre el suceso: Todas del mismo color\n",
    "same_Colour = 0;\n",
    "\n",
    "# Se realiza el experimento tantas veces como se haya definido:\n",
    "for extraction in range (n_extractions):\n",
    "\n",
    "    # Se inicializa la variable donde se guardarán las bolas que se han ido extrayendo:\n",
    "    extractions = [];\n",
    "\n",
    "    # El experimento consiste en sacar 5 bolas cada vez, una a una y reponiendo (no se debe descontar la bola extraída del total)\n",
    "    for ball in range (5):\n",
    "\n",
    "        # Se elige aleatoriamente qué bola de las 60 en la caja se escoje, se extrae de qué color es y se guarda en la variable de extracciones\n",
    "        ball_number = np.random.randint (0, 60);\n",
    "        ball_colour = ball_box [ball_number];\n",
    "        extractions.append(ball_colour);\n",
    "    \n",
    "    # Se suma la cantidad de veces que se ha extraído cada color para cada experimento (5 extracciones de bola):\n",
    "    extractions = np.array (extractions); # Para poder utilizar la función .sum() se necesita que la lista pase a ser array\n",
    "    total_White = np.sum(extractions == 'White');\n",
    "    total_Red = np.sum (extractions == 'Red');\n",
    "    total_Green = np.sum (extractions == 'Green');\n",
    "\n",
    "    # Se actualiza la variable 'white_And_Red' cada vez que ocurra el suceso:  3 blancas Y 2 rojas:\n",
    "    if total_White == 3 and total_Red == 2: white_And_Red += 1;\n",
    "\n",
    "    # Se actualiza la variable 'same_Colour' cada vez que ocurra el suceso: Todas del mismo color: \n",
    "    if total_White == 5 or total_Red == 5 or total_Green == 5: same_Colour +=1;\n",
    "\n",
    "# Se calculan las probabilidades\n",
    "white_And_Red_prob = white_And_Red / n_extractions;\n",
    "same_Colour_prob = same_Colour / n_extractions;\n",
    "\n",
    "print (f\" La probabilidad de que salgan 3 bolas Blancas Y 2 bolas Rojas es de: {np.round(white_And_Red_prob * 100, decimals = 3)}%\");\n",
    "print (f\" La probabilidad de que salgan todas las bolas del mismo color es: {np.round(same_Colour_prob * 100, decimals = 3)}%\");\n",
    "\n",
    "\n",
    "\n"
   ]
  }
 ],
 "metadata": {
  "kernelspec": {
   "display_name": "Python 3",
   "language": "python",
   "name": "python3"
  },
  "language_info": {
   "codemirror_mode": {
    "name": "ipython",
    "version": 3
   },
   "file_extension": ".py",
   "mimetype": "text/x-python",
   "name": "python",
   "nbconvert_exporter": "python",
   "pygments_lexer": "ipython3",
   "version": "3.11.4"
  }
 },
 "nbformat": 4,
 "nbformat_minor": 5
}
